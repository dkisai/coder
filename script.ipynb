{
 "cells": [
  {
   "cell_type": "markdown",
   "metadata": {
    "id": "H3rn1RadWbzJ",
    "tags": []
   },
   "source": [
    "# Parte inicial del ETL creado para coderhouse"
   ]
  },
  {
   "cell_type": "markdown",
   "metadata": {
    "id": "MG7qGOdIWnLL",
    "tags": []
   },
   "source": [
    "## Importamos las librerias necesarias"
   ]
  },
  {
   "cell_type": "code",
   "execution_count": 2,
   "metadata": {
    "id": "rjw-DPaYbHcG",
    "tags": []
   },
   "outputs": [
    {
     "ename": "NameError",
     "evalue": "name 'MetaData' is not defined",
     "output_type": "error",
     "traceback": [
      "\u001b[0;31m---------------------------------------------------------------------------\u001b[0m",
      "\u001b[0;31mNameError\u001b[0m                                 Traceback (most recent call last)",
      "\u001b[1;32m/home/dkisai/Documentos/Projects/coder/script.ipynb Cell 3\u001b[0m line \u001b[0;36m3\n\u001b[1;32m      <a href='vscode-notebook-cell:/home/dkisai/Documentos/Projects/coder/script.ipynb#W2sZmlsZQ%3D%3D?line=0'>1</a>\u001b[0m \u001b[39mimport\u001b[39;00m \u001b[39mrequests\u001b[39;00m\n\u001b[1;32m      <a href='vscode-notebook-cell:/home/dkisai/Documentos/Projects/coder/script.ipynb#W2sZmlsZQ%3D%3D?line=1'>2</a>\u001b[0m \u001b[39mimport\u001b[39;00m \u001b[39mpandas\u001b[39;00m \u001b[39mas\u001b[39;00m \u001b[39mpd\u001b[39;00m\n\u001b[0;32m----> <a href='vscode-notebook-cell:/home/dkisai/Documentos/Projects/coder/script.ipynb#W2sZmlsZQ%3D%3D?line=2'>3</a>\u001b[0m \u001b[39mimport\u001b[39;00m \u001b[39mutils\u001b[39;00m\n",
      "File \u001b[0;32m~/Documentos/Projects/coder/utils.py:25\u001b[0m\n\u001b[1;32m     21\u001b[0m password \u001b[39m=\u001b[39m \u001b[39m'\u001b[39m\u001b[39m \u001b[39m\u001b[39m'\u001b[39m\n\u001b[1;32m     23\u001b[0m db_engine \u001b[39m=\u001b[39m create_engine(\u001b[39mf\u001b[39m\u001b[39m'\u001b[39m\u001b[39mpostgresql://\u001b[39m\u001b[39m{\u001b[39;00muser\u001b[39m}\u001b[39;00m\u001b[39m:\u001b[39m\u001b[39m{\u001b[39;00mpassword\u001b[39m}\u001b[39;00m\u001b[39m@\u001b[39m\u001b[39m{\u001b[39;00mhost\u001b[39m}\u001b[39;00m\u001b[39m:\u001b[39m\u001b[39m{\u001b[39;00mport\u001b[39m}\u001b[39;00m\u001b[39m/\u001b[39m\u001b[39m{\u001b[39;00mdatabase\u001b[39m}\u001b[39;00m\u001b[39m'\u001b[39m)\n\u001b[0;32m---> 25\u001b[0m metadata \u001b[39m=\u001b[39m MetaData()\n\u001b[1;32m     27\u001b[0m logs_table \u001b[39m=\u001b[39m Table(\n\u001b[1;32m     28\u001b[0m     \u001b[39m'\u001b[39m\u001b[39mlogs\u001b[39m\u001b[39m'\u001b[39m,\n\u001b[1;32m     29\u001b[0m     metadata,\n\u001b[0;32m   (...)\u001b[0m\n\u001b[1;32m     33\u001b[0m     Column(\u001b[39m'\u001b[39m\u001b[39mmessage\u001b[39m\u001b[39m'\u001b[39m, String)\n\u001b[1;32m     34\u001b[0m )\n\u001b[1;32m     36\u001b[0m \u001b[39mdef\u001b[39;00m \u001b[39mlog_to_database\u001b[39m(level, message):\n",
      "\u001b[0;31mNameError\u001b[0m: name 'MetaData' is not defined"
     ]
    }
   ],
   "source": [
    "import requests\n",
    "import pandas as pd\n",
    "import utils"
   ]
  },
  {
   "cell_type": "markdown",
   "metadata": {},
   "source": [
    "Creamos el log para tener de manera visual si todo funciona"
   ]
  },
  {
   "cell_type": "code",
   "execution_count": null,
   "metadata": {},
   "outputs": [],
   "source": []
  },
  {
   "cell_type": "markdown",
   "metadata": {},
   "source": [
    "Obtenenos la api key"
   ]
  },
  {
   "cell_type": "code",
   "execution_count": null,
   "metadata": {
    "id": "CO7wlq4bb1tF",
    "tags": []
   },
   "outputs": [],
   "source": [
    "API_KEY = 'f29d2a34d2f0fcf9db7c748ca09c7a1a'\n",
    "MOVIE_ID = '16869'\n",
    "# 10859\n",
    "# https://api.themoviedb.org/3/movie/{MOVIE_ID}/credits?language=es-MX&api_key={API_KEY}\n",
    "# https://api.themoviedb.org/3/movie/{MOVIE_ID}?language=es-MX&api_key={API_KEY}"
   ]
  },
  {
   "cell_type": "code",
   "execution_count": null,
   "metadata": {},
   "outputs": [],
   "source": [
    "#def redshift_connection(host, port, database, user, password):\n",
    "def redshift_connection():\n",
    "    try:\n",
    "        utils.logger.info('INFO', '\"Connecting to Redshift Cluster\"')\n",
    "        host = 'data-engineer-cluster.cyhh5bfevlmn.us-east-1.redshift.amazonaws.com'\n",
    "        port = 5439\n",
    "        database = 'data-engineer-database'\n",
    "        user = 'diego_kisai_coderhouse'\n",
    "        password = ' '\n",
    "        engine = utils.create_engine(f'postgresql+psycopg2://{user}:{password}@{host}:{port}/{database}')\n",
    "        utils.logger.info(\"Successfully connected to Redshift cluster\")\n",
    "        return engine\n",
    "    except ConnectionError as e:\n",
    "        utils.logger.error(\"Failed to connect to redshift, please review your access credentials\")\n",
    "        raise e\n"
   ]
  },
  {
   "cell_type": "code",
   "execution_count": null,
   "metadata": {},
   "outputs": [],
   "source": [
    "redshift_connection()"
   ]
  },
  {
   "cell_type": "markdown",
   "metadata": {},
   "source": [
    "Hacemos la consulta y validamos que existe el id que queremos guardar"
   ]
  },
  {
   "cell_type": "code",
   "execution_count": null,
   "metadata": {
    "colab": {
     "base_uri": "https://localhost:8080/"
    },
    "id": "HJl4K_3VbJom",
    "outputId": "5b1b7896-03b1-4468-9e49-e31f3e6c838b",
    "tags": []
   },
   "outputs": [],
   "source": [
    "credits = requests.get(f'https://api.themoviedb.org/3/movie/{MOVIE_ID}/credits?language=es-MX&api_key={API_KEY}')\n",
    "movie = requests.get(f'https://api.themoviedb.org/3/movie/{MOVIE_ID}?language=es-MX&api_key={API_KEY}')\n",
    "if credits.status_code and movie.status_code == 200:\n",
    "  print('--ok--')\n",
    "  utils.logger.info(f\"se encontro pelicula para el id {MOVIE_ID}\")\n",
    "else:\n",
    "  print('--no existe pelicula para ese id--')\n",
    "  utils.logger.warning(\"no existe pelicula para ese id\")"
   ]
  },
  {
   "cell_type": "markdown",
   "metadata": {},
   "source": [
    "Modificamos lo que obtenemos para crear un dataframe"
   ]
  },
  {
   "cell_type": "code",
   "execution_count": null,
   "metadata": {
    "id": "Sxemt0UQ2SOR",
    "tags": []
   },
   "outputs": [],
   "source": [
    "# c = json.loads(credits.text)\n",
    "# m = json.loads(movie.text)\n",
    "#cred = pd.json_normalize(c)\n",
    "movi = pd.json_normalize(movie.json())\n",
    "movi = movi.explode('genres')\n",
    "movi = movi.explode('spoken_languages')\n",
    "movi = movi.explode('production_countries')\n",
    "movi = movi.explode('production_companies')\n",
    "\n",
    "movi['genres'] = movi['genres'].apply(lambda x: x['name'])\n",
    "movi['spoken_languages'] = movi['spoken_languages'].apply(lambda x: x['name'])\n",
    "movi['production_countries'] = movi['production_countries'].apply(lambda x: x['name'])\n",
    "#df_crew = pd.DataFrame(cred['crew'][0])\n",
    "#df_cast = pd.DataFrame(cred['cast'][0])\n",
    "df_movi = pd.DataFrame(movi)\n"
   ]
  },
  {
   "cell_type": "code",
   "execution_count": null,
   "metadata": {
    "colab": {
     "base_uri": "https://localhost:8080/",
     "height": 1000
    },
    "id": "9_zlsr83226e",
    "outputId": "edc9ad5a-79ea-4e67-f520-98aa79c23648",
    "tags": []
   },
   "outputs": [],
   "source": [
    "df_crew"
   ]
  },
  {
   "cell_type": "code",
   "execution_count": null,
   "metadata": {
    "id": "dJxWLG6A8Qt5",
    "tags": []
   },
   "outputs": [],
   "source": [
    "df_cast"
   ]
  },
  {
   "cell_type": "code",
   "execution_count": null,
   "metadata": {
    "colab": {
     "base_uri": "https://localhost:8080/",
     "height": 200
    },
    "id": "-0giTz2l0Nj1",
    "outputId": "1cea6989-a8dd-47dc-ee39-8959891a716f",
    "tags": []
   },
   "outputs": [],
   "source": [
    "movi_order = df_movi[['id',\n",
    "                     'title',\n",
    "                     'original_title',\n",
    "                     'original_language',\n",
    "                     'spoken_languages',\n",
    "                     'genres',\n",
    "                     'release_date',\n",
    "                     'poster_path',\n",
    "                     'overview',\n",
    "                     'budget',\n",
    "                     'revenue',\n",
    "                     'runtime',\n",
    "                     'tagline',\n",
    "                     'production_countries',\n",
    "                     ]]"
   ]
  },
  {
   "cell_type": "code",
   "execution_count": null,
   "metadata": {
    "tags": []
   },
   "outputs": [],
   "source": [
    "\n",
    "movi_order"
   ]
  },
  {
   "cell_type": "code",
   "execution_count": null,
   "metadata": {
    "id": "5HF5cjPWZiTS",
    "tags": []
   },
   "outputs": [],
   "source": [
    "distinct_crew = df_crew['original_name'].nunique()\n",
    "distinct_cast = df_cast['original_name'].nunique()\n",
    "total = distinct_crew + distinct_cast\n",
    "titulo = df_movi.at[0,'title']"
   ]
  },
  {
   "cell_type": "code",
   "execution_count": null,
   "metadata": {
    "colab": {
     "base_uri": "https://localhost:8080/"
    },
    "id": "-Kjsy0Vpb4wp",
    "outputId": "b5cde5c7-3d8d-4ed9-f313-723efc4d6aa3",
    "tags": []
   },
   "outputs": [],
   "source": [
    "print(f'En la pelicula {titulo} trabajaron {total} personas, hay {distinct_cast} actores y {distinct_crew} en el staff')"
   ]
  },
  {
   "cell_type": "code",
   "execution_count": null,
   "metadata": {
    "colab": {
     "base_uri": "https://localhost:8080/",
     "height": 192
    },
    "id": "a2L-M9Bcg_Fp",
    "outputId": "fcf449e7-069f-4ef6-f8fd-8eb065ab11e7",
    "tags": []
   },
   "outputs": [],
   "source": [
    "director_rows = df_crew[df_crew['job'].isin(['Director', 'Executive Producer', 'Producer'])]\n",
    "\n",
    "# Agrupar por 'job' y tomar la primera fila de cada grupo\n",
    "first_rows = director_rows.groupby('job').first()\n",
    "first_rows"
   ]
  },
  {
   "cell_type": "code",
   "execution_count": null,
   "metadata": {
    "id": "hBEANztQPxJS"
   },
   "outputs": [],
   "source": []
  }
 ],
 "metadata": {
  "colab": {
   "provenance": []
  },
  "kernelspec": {
   "display_name": "Python 3 (ipykernel)",
   "language": "python",
   "name": "python3"
  },
  "language_info": {
   "codemirror_mode": {
    "name": "ipython",
    "version": 3
   },
   "file_extension": ".py",
   "mimetype": "text/x-python",
   "name": "python",
   "nbconvert_exporter": "python",
   "pygments_lexer": "ipython3",
   "version": "3.11.4"
  }
 },
 "nbformat": 4,
 "nbformat_minor": 4
}
